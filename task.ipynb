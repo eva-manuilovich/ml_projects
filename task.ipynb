{
 "cells": [
  {
   "cell_type": "markdown",
   "metadata": {},
   "source": [
   
    "**Ситуация.**\n",
    "\n",
    "Многие покупатели всего один раз делают заказ в онлайн магазине. Такое событие происходит по множеству причин и онлайн дилеры пытаются противодействовать этому, используя соответствующие методы оценки лояльности клиентов. К примеру, проверенным методом является раздача ваучеров через некоторое время после покупки, чтобы стимулировать покупателя сделать следующий заказ. Однако отправлять ваучеры всем покупателям не самое хорошее решение с экономической точки зрения, поскольку клиенты могут совершить покупку и без него.\n",
    "\n",
    "**Задача.**\n",
    "\n",
    "Используя имеющиеся характеристики исходного заказа клиента, такие как объем заказа по каждому виду товара, доступность товара, вес поставки, необходимо принять решение, оправлять ли ваучер стоимостью € 10.00. Надо давать ваучер тем клиентам, которые сами не решились бы сделать следующий заказ. Как показывает практика, можно считать, что ваучер влечет покупку со средней стоимостью € 40.00 в 10 случаях из 100 среди тех, когда покупки не было. Если отправить ваучер клиенту, который все равно сделает следующий заказ, то дилер теряет € 10.00. Таким образом, стоит задача максимизации выручки путем отправки ваучеров нужным клиентам. Используя данные из файла ```train.txt```, необходимо построить модель, которая определяла бы клиентов, описанных в файле ```class.txt```, которые должны получить ваучер.\n",
    "\n",
    "**Оценка результатов.**\n",
    "\n",
    "Если послать ваучер клиенту, а он в любом случае сделает заказ, то выручка уменьшится на € 10.00. Если послать ваучер клиенту, который ничего бы не заказал, то выручка увеличивается, в среднем, на € 3.00.\n",
    "\n",
    "**Найти**\n",
    "\n",
    "Разметить выборку raw_unlabeled на (0, 1), максимизировав предложенный функционал качества.\n",
    "\n",
    "**Признаки**\n",
    "\n",
    "* salutation - ответственное лицо.\n",
    "* title - доступность товара.\n",
    "* domain - домен.\n",
    "* newsletter - новостная подписка.\n",
    "* model - неизвестно.\n",
    "* paymenttype - вид платежа.\n",
    "* deliverytype - вид доставки.\n",
    "* voucher - погашен ли ваучер на данном заказе.\n",
    "* invoicepostcode - почтовый индекс по накладной.\n",
    "* case - ценность товаров.\n",
    "* numberitems - общее количество товаров.\n",
    "* gift - подарок.\n",
    "* entry - откуда клиент нашел магазин.\n",
    "* points - погашены ли очки.\n",
    "* shippingcosts - включены ли расходы на доставку.\n",
    "* weight - вес товаров.\n",
    "* remi - число отправленных товаров.\n",
    "* cancel - число отмененных товаров.\n",
    "* w0 - число заказанных книг с переплетами.\n",
    "* w1 - число заказанных книг в мягкой обложке.\n",
    "* w2 - число заказанных школьных учебников.\n",
    "* w3 -  Число заказанных электронных книг.\n",
    "* w4 -  Число заказанных аудио-книг.\n",
    "* w5 -  Число заказанных аудио-книг (download).\n",
    "* w6 -  Число заказанных фильмов.\n",
    "* w7 -  Число заказанных музыкальных товаров.\n",
    "* w8 -  Число заказанной товаров электроники.\n",
    "* w9  - число заказанных импортных товаров.\n",
    "* w10 - число прочих заказанных товаров.\n",
    "* deliverydatepromised@month - месяц обещанной даты доставки.\n",
    "* deliverydatepromised@dayofweek - день недели обещанной даты доставки.\n",
    "* datecreated@month - месяц создания аккаунта.\n",
    "* datecreated@dayofweek - день недели создания аккаунта.\n",
    "* deliverydatereal@month - месяц реальной даты доставки.\n",
    "* deliverydatereal@dayofweek - день недели реальной даты доставки.\n",
    "* date@month - месяц, в который был сделан исходный заказ.\n",
    "* date@dayofweek - день недели, в который был сделан исходный заказ.\n",
    "* deliverydelta - разница между обещанной датой доставки и реальной датой доставки.\n",
    "* advertisingdatacode - код рекламных данных.\n",
    "* delivpostcode - почтовый индекс адреса доставки.\n",
    "* **target90 - целевая переменная в train**\n",
    "\n",
    "----\n",
    "\n",
    "Комментарий: Результат предсказаний лучшей модели следует предоставить в csv-файле с колонками \"customernumber\" и \"pred\". В процессе решения задачи следует уделить вниманию обзору данных и сравнению различных алгоритмов."
   ]
  },
  {
   "cell_type": "code",
   "execution_count": 1,
   "metadata": {},
   "outputs": [],
   "source": [
    "import pandas as pd\n",
    "\n",
    "from sklearn.preprocessing import OneHotEncoder\n",
    "\n",
    "\n",
    "raw_data = pd.read_csv('./train.csv', delimiter=';', low_memory=False)\n",
    "raw_unlabeled = pd.read_csv('./test.csv', delimiter=';', low_memory=False)"
   ]
  },
  {
   "cell_type": "code",
   "execution_count": 2,
   "metadata": {},
   "outputs": [],
   "source": [
    "raw_unlabeled['pred'] = 0\n",
    "raw_unlabeled[['customernumber', 'pred']].to_csv('preds.csv', index=False)"
   ]
  },
  {
   "cell_type": "code",
   "execution_count": 3,
   "metadata": {
    "scrolled": false
   },
   "outputs": [
    {
     "name": "stdout",
     "output_type": "stream",
     "text": [
      "Index(['customernumber', 'date', 'salutation', 'title', 'domain',\n",
      "       'datecreated', 'newsletter', 'model', 'paymenttype', 'deliverytype',\n",
      "       'invoicepostcode', 'delivpostcode', 'voucher', 'advertisingdatacode',\n",
      "       'case', 'numberitems', 'gift', 'entry', 'points', 'shippingcosts',\n",
      "       'deliverydatepromised', 'deliverydatereal', 'weight', 'remi', 'cancel',\n",
      "       'used', 'w0', 'w1', 'w2', 'w3', 'w4', 'w5', 'w6', 'w7', 'w8', 'w9',\n",
      "       'w10', 'target90'],\n",
      "      dtype='object')\n"
     ]
    }
   ],
   "source": [
    "print(raw_data.columns)"
   ]
  },
  {
   "cell_type": "markdown",
   "metadata": {},
   "source": [
    "Отсутствует потенциально полезный признак deliverydelta, а так же есть неизвестные признаки model и used."
   ]
  },
  {
   "cell_type": "markdown",
   "metadata": {},
   "source": [
    "Для начала введем предложенный признак deliverydelta (его нет в исходных данных, однако есть даты ожидаемой и реальной даты доставки). Оказывается, что иногда дата записанна некорректно, ('0000-00-00'). В таких случаях значение deliverydelta поставим 1000, как число, которого явно не может быть в реальной статистике доставки"
   ]
  },
  {
   "cell_type": "code",
   "execution_count": 4,
   "metadata": {},
   "outputs": [],
   "source": [
    "x0 = raw_data.copy()\n",
    "y = raw_data.target90"
   ]
  },
  {
   "cell_type": "code",
   "execution_count": 5,
   "metadata": {},
   "outputs": [],
   "source": [
    "from datetime import datetime\n",
    "date_format = \"%Y-%m-%d\"\n",
    "\n",
    "def delta_days(x):\n",
    "    x['deliverydelta'] = 0\n",
    "\n",
    "    for i in range(len(x)):\n",
    "        a = x.iloc[i, x.columns.get_loc('deliverydatepromised')]\n",
    "        b = x.iloc[i, x.columns.get_loc('deliverydatereal')]\n",
    "        if (a == '0000-00-00')or (b == '0000-00-00'):\n",
    "            x.iloc[i, x.columns.get_loc('deliverydelta')] = 1000\n",
    "        else:\n",
    "            a_t = datetime.strptime(a, date_format)\n",
    "            b_t = datetime.strptime(b, date_format)\n",
    "            delta = b_t - a_t\n",
    "            x.iloc[i, x.columns.get_loc('deliverydelta')] = delta.days\n",
    "            \n",
    "    return(x)"
   ]
  },
  {
   "cell_type": "code",
   "execution_count": 6,
   "metadata": {},
   "outputs": [],
   "source": [
    "x0 = delta_days(x0)"
   ]
  },
  {
   "cell_type": "markdown",
   "metadata": {},
   "source": [
    "Уберем остальные признаки с датами"
   ]
  },
  {
   "cell_type": "code",
   "execution_count": 7,
   "metadata": {
    "scrolled": true
   },
   "outputs": [],
   "source": [
    "x1 = x0.drop(['deliverydatepromised', 'deliverydatereal', 'date', 'datecreated'], axis = 1)"
   ]
  },
  {
   "cell_type": "code",
   "execution_count": 8,
   "metadata": {
    "scrolled": true
   },
   "outputs": [
    {
     "name": "stdout",
     "output_type": "stream",
     "text": [
      "paymenttype :  [1 0 3 2]\n",
      "salutation :  [1 0 2]\n",
      "title :  [0 1]\n",
      "newsletter :  [0 1]\n",
      "entry :  [0 1]\n",
      "model :  [1 3 2]\n",
      "used :  [ 0  3  1  2 13 12  5  4  9  8  6  7 10 11]\n",
      "delivpostcode :  [nan '99' '15' '70' '50' '14' '53' '22' '41' '88' '81' '46' '27' '44' '04'\n",
      " '52' '72' '17' '21' '35' '60' '97' '82' '28' '30' '10' '91' '90' '86'\n",
      " '40' '51' '45' '57' '49' '07' '92' '85' '71' '47' '96' '55' '64' '23'\n",
      " '34' '37' '76' '13' '48' '24' '80' '16' '63' '59' '06' '12' '89' '65'\n",
      " '69' '08' '67' '01' '42' '0' '32' '94' '98' '93' '73' '33' '31' '61' '78'\n",
      " '58' '25' '36' '74' '54' '83' '02' '56' '18' '68' '75' '19' '03' '29'\n",
      " '87' '79' '11' '95' '20' '39' '26' '38' '84' '66' '09' 'EN' '00' 'Nl']\n",
      "advertisingdatacode :  [nan 'BQ' 'AP' 'CA' 'BD' 'AB' 'BC' 'BI' 'BT' 'AQ' 'BR' 'AH' 'AX' 'BF' 'AE'\n",
      " 'AR' 'BL' 'BO' 'BB' 'AT' 'BZ' 'BM' 'BA' 'BY' 'AZ' 'AK' 'AW' 'AO' 'AL'\n",
      " 'AU' 'AV' 'AI' 'AM' 'BS' 'BV' 'BG' 'AC' 'AD' 'BE' 'BX' 'AF' 'BK']\n",
      "invoicepostcode :  [34 51 25 95 78 77 86 97 58 50 40 99 88 17 68 15 63 89 49 20 42 21 22  7\n",
      " 30 65 79 57 27 12 52 66 91 24 61 56 18 76 32 29 33  1 26 16 80 10 55 46\n",
      " 14 45 38 41 23 81 90 60 53 73 64 36 67 44 47 13 69 31 92 39 74 71 59  4\n",
      " 84 54 37 70 94 35 96 72 85 28 75 48  9 93 87 82  8  3  6 19 83 98  2 11\n",
      "  0]\n",
      "domain :  [ 4 12  8  9  6  1  2  5  3  0 11 10  7]\n",
      "deliverytype :  [1 0]\n"
     ]
    }
   ],
   "source": [
    "cat_check = ['paymenttype', 'salutation', 'title', 'newsletter', 'entry' ,'model', 'used',\n",
    "             'delivpostcode', 'advertisingdatacode', 'invoicepostcode', 'domain','deliverytype']\n",
    "\n",
    "for col in cat_check:\n",
    "    print (col, ': ', raw_data[col].unique())"
   ]
  },
  {
   "cell_type": "markdown",
   "metadata": {},
   "source": [
    "Признаки 'used', 'delivpostcode', 'advertisingdatacode', 'invoicepostcode', 'domain' имеют большое количество разнообразных значений, их не стоит преобразовывать через OneHotEncoder, но им можно вместо дискретных значений присвоить вероятность равенства целевой переменной единице при каждом из значений.\n",
    "\n",
    "Признаки  'title', 'newsletter', 'entry' и 'deliverytype' имеют всего по два значения, их можно оставить без изменений.\n",
    "\n",
    "Остаются 'paymenttype', 'salutation' и 'model', которые можно прогнать через OneHotEncoder."
   ]
  },
  {
   "cell_type": "markdown",
   "metadata": {},
   "source": [
    "Перекодируем некоторые признаки."
   ]
  },
  {
   "cell_type": "code",
   "execution_count": 9,
   "metadata": {},
   "outputs": [],
   "source": [
    "def apply_ohe(cat, x):\n",
    "    ohe = OneHotEncoder(sparse=False) \n",
    "    for col in cat.columns:\n",
    "        new_ohe_features = ohe.fit_transform(cat[col].values.reshape(-1, 1))\n",
    "        tmp = pd.DataFrame(new_ohe_features, columns=[col + str(i) for i in range(new_ohe_features.shape[1])])\n",
    "        x = x.drop([col], axis=1)\n",
    "        x = pd.concat([x, tmp], axis = 1)\n",
    "    return(x)"
   ]
  },
  {
   "cell_type": "code",
   "execution_count": 10,
   "metadata": {
    "scrolled": true
   },
   "outputs": [],
   "source": [
    "cat = x1.iloc[:, x1.columns.get_indexer(['paymenttype', 'salutation', 'model'])]\n",
    "\n",
    "x1 = apply_ohe(cat, x1)\n",
    "    "
   ]
  },
  {
   "cell_type": "code",
   "execution_count": 11,
   "metadata": {
    "scrolled": false
   },
   "outputs": [
    {
     "name": "stdout",
     "output_type": "stream",
     "text": [
      "delivpostcode:  4.1 %\n",
      "advertisingdatacode:  19.8 %\n"
     ]
    }
   ],
   "source": [
    "#у признака delivpostcode всего 4% не NaN данных, а у advertisingdatacode - 20%. \n",
    "deliv = x1.delivpostcode\n",
    "print('delivpostcode: ', round((len(deliv.dropna())/len(x1))*100, 1), '%')\n",
    "adv = x1.advertisingdatacode\n",
    "print('advertisingdatacode: ', round((len(adv.dropna())/len(x1))*100, 1), '%')"
   ]
  },
  {
   "cell_type": "markdown",
   "metadata": {},
   "source": [
    "Уберем из выборки delivpostcode и advertisingdatacode.\n",
    "Для 'used', 'invoicepostcode' и 'domain' заменим значения на вероятности, однако, в кросс-валидации это нужно делать на каждой итерации заново, так что сейчас просто уберем эти признаки, а при настройке модели воспользуемся функцией cat_feat_to_probs()"
   ]
  },
  {
   "cell_type": "code",
   "execution_count": 12,
   "metadata": {},
   "outputs": [],
   "source": [
    "x2 = x1.drop(['delivpostcode', 'advertisingdatacode', 'used', 'invoicepostcode', 'domain'], axis = 1)\n",
    "cat = raw_data.iloc[:, raw_data.columns.get_indexer(['used', 'invoicepostcode', 'domain'])].copy()\n"
   ]
  },
  {
   "cell_type": "code",
   "execution_count": 13,
   "metadata": {},
   "outputs": [],
   "source": [
    "def cat_feat_to_probs(cats_train, cats_test, y):    \n",
    "\n",
    "    for col in cats_train.columns:\n",
    "        \n",
    "        for feat in cats_train[col].unique():\n",
    "            t = y.where(cats_train[col]==feat).sum()\n",
    "            l = len(cats_train[col].where(cats_train[col]==feat).dropna())\n",
    "            #print(t, l)\n",
    "            p = t/l\n",
    "            for i in range(len(cats_train)):\n",
    "                if (cats_train.iloc[i, cats_train.columns.get_loc(col)]==feat):\n",
    "                    cats_train.iloc[i, cats_train.columns.get_loc(col)]=p\n",
    "            for i in range(len(cats_test)):\n",
    "                if (cats_test.iloc[i, cats_test.columns.get_loc(col)]==feat):\n",
    "                    cats_test.iloc[i, cats_test.columns.get_loc(col)]=p\n",
    "                    \n",
    "\n",
    "    return (np.array(cats_train), np.array(cats_test))"
   ]
  },
  {
   "cell_type": "markdown",
   "metadata": {},
   "source": [
    "Или тоже заменим их методом OneHotEncoder."
   ]
  },
  {
   "cell_type": "code",
   "execution_count": 14,
   "metadata": {
    "scrolled": true
   },
   "outputs": [],
   "source": [
    "Apply_ohe = False\n",
    "\n",
    "if Apply_ohe:\n",
    "    ohe = OneHotEncoder(sparse=False) \n",
    "    for col in cat.columns:\n",
    "        new_ohe_features = ohe.fit_transform(cat[col].values.reshape(-1, 1))\n",
    "        tmp = pd.DataFrame(new_ohe_features, columns=[col + str(i) for i in range(new_ohe_features.shape[1])])\n",
    "        x2 = pd. concat([x2, tmp], axis = 1)"
   ]
  },
  {
   "cell_type": "code",
   "execution_count": 17,
   "metadata": {},
   "outputs": [
    {
     "name": "stdout",
     "output_type": "stream",
     "text": [
      "21619\n",
      "21619\n"
     ]
    }
   ],
   "source": [
    "print(len(x2.customernumber.unique()))\n",
    "print(len(x2))"
   ]
  },
  {
   "cell_type": "markdown",
   "metadata": {},
   "source": [
    "Так как все покупатели уникальны, выкинем столбец customernumber. И целевую переменную тоже выкинем."
   ]
  },
  {
   "cell_type": "code",
   "execution_count": 18,
   "metadata": {},
   "outputs": [],
   "source": [
    "x3 = x2.drop(['customernumber', 'target90'], axis = 1)"
   ]
  },
  {
   "cell_type": "markdown",
   "metadata": {},
   "source": [
    "Посчитаем дни недели и их вероятности (да, их тоже надо было бы засунуть внутрь кросс-валидации, но давайте как минимум проверим, есть ли между ними разница)"
   ]
  },
  {
   "cell_type": "code",
   "execution_count": 21,
   "metadata": {
    "scrolled": true
   },
   "outputs": [],
   "source": [
    "wd = raw_data.iloc[:, raw_data.columns.get_indexer(['datecreated', 'deliverydatepromised', 'deliverydatereal'])].copy()\n",
    "day = 0\n",
    "\n",
    "for col in wd.columns:\n",
    "\n",
    "    for i in range(len(raw_data)):\n",
    "        a = wd.iloc[i, wd.columns.get_loc(col)]\n",
    "        if (a == '0000-00-00'):\n",
    "             wd.iloc[i, wd.columns.get_loc(col)] = 7\n",
    "        else:\n",
    "            day = datetime.strptime(a, date_format).weekday()\n",
    "            wd.iloc[i, wd.columns.get_loc(col)] = day\n",
    "            \n",
    "#заменять с помощью OneHotEncoder - это 20 с лишним признаков, поэтому попробуем посчитать вероятности, \n",
    "#посомтрим, будет ли разница между днями недели\n",
    "\n",
    "for col in wd.columns:\n",
    "\n",
    "    for feat in wd[col].unique():\n",
    "        t = y.where(wd[col]==feat).sum()\n",
    "        l = len(wd[col].where(wd[col]==feat).dropna())\n",
    "        #print(t, l)\n",
    "        p = t/l\n",
    "        for i in range(len(raw_data)):\n",
    "            if (wd.iloc[i, wd.columns.get_loc(col)]==feat):\n",
    "                wd.iloc[i, wd.columns.get_loc(col)]=p"
   ]
  },
  {
   "cell_type": "code",
   "execution_count": 22,
   "metadata": {
    "scrolled": false
   },
   "outputs": [
    {
     "name": "stdout",
     "output_type": "stream",
     "text": [
      "[0.17406241 0.19305127 0.19011281 0.1898971  0.18475336 0.18041431\n",
      " 0.18719212]\n",
      "[0.18737295 0.18284024 0.18642013 0.18239839 0.18694444]\n",
      "[0.19164265 0.18038654 0.19504222 0.17706294 0.18380376 0.18836565\n",
      " 0.18627451 0.14983713]\n"
     ]
    }
   ],
   "source": [
    "print(wd['datecreated'].unique())\n",
    "print(wd['deliverydatepromised'].unique())\n",
    "print(wd['deliverydatereal'].unique())"
   ]
  },
  {
   "cell_type": "markdown",
   "metadata": {},
   "source": [
    "По всей видимости, зачастую мы вообще не знаем итоговую дату доставки, а все остальные дни недели распределены примерно равнозначно. Не будем пользоваться этими признаками."
   ]
  },
  {
   "cell_type": "code",
   "execution_count": 23,
   "metadata": {
    "scrolled": true
   },
   "outputs": [
    {
     "name": "stdout",
     "output_type": "stream",
     "text": [
      "target90=1 в 18.6% случаев\n"
     ]
    }
   ],
   "source": [
    "#нам достались несимметричные данные\n",
    "print('target90=1 в '+str(round((y.sum()/len(y))*100, 1))+'% случаев')"
   ]
  },
  {
   "cell_type": "code",
   "execution_count": 24,
   "metadata": {},
   "outputs": [],
   "source": [
    "#это будут данные без дней недели, к тому же не симметризованные по количеству 0 и 1 в target90\n",
    "#можно остановиться на этом.\n",
    "x_raw = x3.copy()\n",
    "y_raw = raw_data.target90"
   ]
  },
  {
   "cell_type": "markdown",
   "metadata": {},
   "source": [
    "Самый глупый способ симметризации - случайным образом обрезать \"нули\" по количеству \"единиц\". Правда, данных этом остается мало. Однако, это не должно так сильно обрезать качество, в любом случае."
   ]
  },
  {
   "cell_type": "code",
   "execution_count": 25,
   "metadata": {},
   "outputs": [],
   "source": [
    "def symm(x, y):\n",
    "\n",
    "    #объединим X и y для синхронного перемешивания.\n",
    "    x = pd.concat([x, y], axis = 1)\n",
    "\n",
    "    #разделим x на нули и единицы\n",
    "    x_0 = x.where(y==0).dropna()\n",
    "    x_1 = x.where(y==1).dropna()\n",
    "\n",
    "    #сделаем обрезанную подвыборку и перемешаем ее с помощью sample\n",
    "    x = pd.concat([x_1, x_0.sample(n = len(x_1))], axis = 0).sample(frac = 1)\n",
    "\n",
    "    #снова выделим X и y \n",
    "    y = x.target90\n",
    "    x = x.drop('target90', axis = 1)\n",
    "    \n",
    "    return (x, y)"
   ]
  },
  {
   "cell_type": "markdown",
   "metadata": {},
   "source": [
    "Подготовка данных завершена. У нас есть таблица признаков X и столбец ответов y. \n",
    "Можно приступать к обучению моделей."
   ]
  },
  {
   "cell_type": "code",
   "execution_count": 26,
   "metadata": {},
   "outputs": [],
   "source": [
    "import numpy as np\n",
    "import statistics\n",
    "from sklearn.decomposition import PCA\n",
    "from sklearn.preprocessing import StandardScaler\n",
    "\n",
    "from sklearn.model_selection import KFold, cross_val_score, GridSearchCV\n",
    "\n",
    "from sklearn.linear_model import LogisticRegression\n",
    "from sklearn.neighbors import KNeighborsClassifier\n",
    "from sklearn.ensemble import GradientBoostingClassifier\n",
    "from sklearn.svm import SVC\n",
    "from sklearn.ensemble import RandomForestClassifier\n",
    "\n",
    "from sklearn.metrics import roc_auc_score\n",
    "from sklearn.model_selection import train_test_split\n",
    "\n",
    "import matplotlib.pyplot as plt\n",
    "%matplotlib inline "
   ]
  },
  {
   "cell_type": "code",
   "execution_count": 27,
   "metadata": {},
   "outputs": [],
   "source": [
    "#Выберем данные.\n",
    "x, y = x_raw, y_raw \n",
    "#но вообще, надо признать, тестовые данные тоже будут примерно такими же - ассиметричными. \n",
    "#И метрика, по которой мы будем отбирать итоговое значение, тоже должна будет работать на несимметричным данных, \n",
    "#так что пусть будет так.\n",
    "\n",
    "#x, y = symm(x3, y)\n"
   ]
  },
  {
   "cell_type": "markdown",
   "metadata": {},
   "source": [
    "Делать цикл с классификаторами можно было бы, но неудобно из-за подбора параметров. Вообще можно подставить любой из списка, они все дают примерно один и тот же результат. Но можно для примера разоюрать качество какой-нибудь пары или тройки."
   ]
  },
  {
   "cell_type": "code",
   "execution_count": 28,
   "metadata": {},
   "outputs": [
    {
     "name": "stdout",
     "output_type": "stream",
     "text": [
      "130 0.62736718362771\n"
     ]
    }
   ],
   "source": [
    "cv = KFold(n_splits=5, shuffle=True)\n",
    "estimator = GradientBoostingClassifier()\n",
    "#grid = {'C': np.power(10.0, np.arange(-3,3))}\n",
    "grid = {'n_estimators': np.arange(7, 15)*10}\n",
    "\n",
    "X_scaled = StandardScaler().fit_transform(x)\n",
    "\n",
    "gs = GridSearchCV(estimator, grid, scoring='roc_auc', cv=cv, verbose=False)\n",
    "gs.fit(X_scaled, y)\n",
    "print(gs.best_params_['n_estimators'], \n",
    "      statistics.mean(cross_val_score(gs.best_estimator_,X_scaled, y=y, cv=cv, scoring='roc_auc')))"
   ]
  },
  {
   "cell_type": "code",
   "execution_count": 29,
   "metadata": {},
   "outputs": [
    {
     "name": "stdout",
     "output_type": "stream",
     "text": [
      "0.001 0.6099313802649659\n"
     ]
    }
   ],
   "source": [
    "cv = KFold(n_splits=5, shuffle=True)\n",
    "estimator = LogisticRegression()\n",
    "grid = {'C': np.power(10.0, np.arange(-3,3))}\n",
    "#grid = {'n_estimators': np.arange(1, 10)*10}\n",
    "\n",
    "X_scaled = StandardScaler().fit_transform(x)\n",
    "\n",
    "gs = GridSearchCV(estimator, grid, scoring='roc_auc', cv=cv, verbose=False)\n",
    "gs.fit(X_scaled, y)\n",
    "print(gs.best_params_['C'], \n",
    "      statistics.mean(cross_val_score(gs.best_estimator_,X_scaled, y=y, cv=cv, scoring='roc_auc')))"
   ]
  },
  {
   "cell_type": "markdown",
   "metadata": {},
   "source": [
    "Дальше идет многострадальная кросс-валидация с пересчитыванием вероятностных признаков - на каждой итерации считается вероятности по тренировочной части, а потом они же приписываются и тестовой части. \n",
    "Ожидаемо, считается оно страшно долго, так что есть возможность быстренько прогнать кросс-валидацию без этих признаков, или с ними, но пропущенных через OneHotEncoder (см.выше)\n",
    "Тем более, что разница пока была невелика."
   ]
  },
  {
   "cell_type": "code",
   "execution_count": null,
   "metadata": {
    "scrolled": true
   },
   "outputs": [],
   "source": [
    "accs = []\n",
    "kf = KFold(n_splits=5, shuffle=False)\n",
    "\n",
    "\n",
    "if not(Apply_ohe):\n",
    "    for train, test in kf.split(X_scaled):\n",
    "\n",
    "\n",
    "        X_train_part, X_test_part = X_scaled[[train]], X_scaled[[test]]\n",
    "        y_train_part, y_test_part = y[train], y[test]\n",
    "\n",
    "        cat_train, cat_test = cat_feat_to_probs(cat.iloc[train, :].copy(), cat.iloc[test, :].copy(), y_train_part)\n",
    "        scaler = StandardScaler()\n",
    "\n",
    "        cat_train = scaler.fit_transform(cat_train)\n",
    "        cat_test = scaler.transform(cat_test)\n",
    "\n",
    "        X_train_part = np.concatenate([X_train_part, cat_train], axis = 1)\n",
    "        X_test_part = np.concatenate([X_test_part, cat_test], axis = 1)\n",
    "\n",
    "        clf = LogisticRegression(C = 0.1)\n",
    "\n",
    "        clf.fit(X_train_part, y_train_part)\n",
    "\n",
    "    #    predictions = clf.predict(X_test_part)  \n",
    "        pred_probs = clf.predict_proba(X_test_part)\n",
    "        acc = roc_auc_score(y_test_part, pred_probs[:, 1])\n",
    "        accs.append(acc)\n",
    "        print(acc)\n",
    "\n",
    "    print(np.mean(accs))\n",
    "else: print('эти признаки уже есть в виде Ohe')"
   ]
  },
  {
   "cell_type": "code",
   "execution_count": null,
   "metadata": {},
   "outputs": [],
   "source": []
  },
  {
   "cell_type": "code",
   "execution_count": 31,
   "metadata": {},
   "outputs": [],
   "source": [
    "X_train, X_test, y_train, y_test = train_test_split(X_scaled, y.values, test_size=0.2, random_state=0)\n",
    "\n",
    "y_probas = []\n",
    "names = ['RandomForestClassifier', 'LogisticRegression', 'GradientBoostingClassifier']\n",
    "\n",
    "for clfs in [RandomForestClassifier(n_estimators=80), LogisticRegression(C=1), GradientBoostingClassifier(n_estimators = 130)]:\n",
    "    clfs.fit(X_train, y_train)\n",
    "    y_probas.append(clfs.predict_proba(X_test))\n",
    "    "
   ]
  },
  {
   "cell_type": "code",
   "execution_count": 32,
   "metadata": {},
   "outputs": [],
   "source": [
    "def buisnes_metric(y_proba, y, thresholds):\n",
    "    incomes = []\n",
    "    for threshold in thresholds:\n",
    "        y_pred = np.copy(y_proba)\n",
    "        y_pred[y_proba<=threshold] = 1\n",
    "        y_pred[y_proba>threshold] = 0\n",
    "        \n",
    "        income = 0\n",
    "        for i in range (len(y_pred)):\n",
    "            \n",
    "            if y_pred[i] == y[i] == 0:\n",
    "                income += 0\n",
    "            elif ((y_pred[i] == 1) and (y[i] == 0)): \n",
    "                income += 3\n",
    "            elif ((y_pred[i] == 0) and (y[i] == 1)):\n",
    "                income += 0\n",
    "            else:\n",
    "                income -= 10 \n",
    "        incomes.append(income)\n",
    "    return(incomes)\n",
    "        "
   ]
  },
  {
   "cell_type": "code",
   "execution_count": 33,
   "metadata": {
    "scrolled": false
   },
   "outputs": [
    {
     "data": {
      "image/png": "[encoded data removed]",
      "text/plain": [
       "<Figure size 432x288 with 1 Axes>"
      ]
     },
     "metadata": {},
     "output_type": "display_data"
    },
    {
     "name": "stdout",
     "output_type": "stream",
     "text": [
      "RandomForestClassifier\n",
      "оптимальное пороговое значение:  0.35\n",
      "выручка при оптимальном пороговом значении:  2575\n"
     ]
    },
    {
     "data": {
      "image/png": "[encoded data removed]",
      "text/plain": [
       "<Figure size 432x288 with 1 Axes>"
      ]
     },
     "metadata": {},
     "output_type": "display_data"
    },
    {
     "name": "stdout",
     "output_type": "stream",
     "text": [
      "LogisticRegression\n",
      "оптимальное пороговое значение:  0.24\n",
      "выручка при оптимальном пороговом значении:  2803\n"
     ]
    },
    {
     "data": {
      "image/png": "[encoded data removed]",
      "text/plain": [
       "<Figure size 432x288 with 1 Axes>"
      ]
     },
     "metadata": {},
     "output_type": "display_data"
    },
    {
     "name": "stdout",
     "output_type": "stream",
     "text": [
      "GradientBoostingClassifier\n",
      "оптимальное пороговое значение:  0.24\n",
      "выручка при оптимальном пороговом значении:  3090\n"
     ]
    }
   ],
   "source": [
    "thresholds = np.linspace(0.1, 0.9, 30)\n",
    "i=0 \n",
    "for y_proba in y_probas:\n",
    "    results = buisnes_metric(y_proba[:, 1], y_test, thresholds)\n",
    "\n",
    "    plt.plot(thresholds, results)\n",
    "    plt.show()\n",
    "    \n",
    "    \n",
    "    print(names[i])\n",
    "\n",
    "    i+=1\n",
    "    print('оптимальное пороговое значение: ', round(thresholds[results.index(max(results))], 2))\n",
    "    print('выручка при оптимальном пороговом значении: ', max(results))"
   ]
  },
  {
   "cell_type": "markdown",
   "metadata": {},
   "source": [
    "Градиентный бустинг дает побольше всех остальных, так-то"
   ]
  },
  {
   "cell_type": "code",
   "execution_count": null,
   "metadata": {},
   "outputs": [],
   "source": []
  },
  {
   "cell_type": "code",
   "execution_count": null,
   "metadata": {},
   "outputs": [],
   "source": []
  },
  {
   "cell_type": "code",
   "execution_count": 34,
   "metadata": {
    "scrolled": true
   },
   "outputs": [],
   "source": [
    "x_test = raw_unlabeled.drop(['pred'], axis=1)\n",
    "x_test = delta_days(x_test)\n",
    "x_test = x_test.drop(['deliverydatepromised', 'deliverydatereal', 'date', 'datecreated'], axis = 1)   \n",
    "\n"
   ]
  },
  {
   "cell_type": "code",
   "execution_count": 35,
   "metadata": {},
   "outputs": [],
   "source": [
    "Apply_ohe_to_all_cat = False\n",
    "\n",
    "if Apply_ohe_to_all_cat:    \n",
    "    cat_test = x_test.iloc[:, x_test.columns.get_indexer(['paymenttype', 'salutation', 'model', \n",
    "                                                      'used', 'invoicepostcode', 'domain'])]\n",
    "else:    \n",
    "    cat_test = x_test.iloc[:, x_test.columns.get_indexer(['paymenttype', 'salutation', 'model'])]\n",
    "\n",
    "x_test = apply_ohe(cat_test, x_test)\n",
    "    \n",
    "x_test = x_test.drop(['delivpostcode', 'advertisingdatacode', 'used', 'invoicepostcode', \n",
    "                      'domain', 'customernumber'], axis = 1)       \n"
   ]
  },
  {
   "cell_type": "markdown",
   "metadata": {},
   "source": [
    "Можно пересчитать эти признаки в вероятности"
   ]
  },
  {
   "cell_type": "code",
   "execution_count": 36,
   "metadata": {},
   "outputs": [],
   "source": [
    "scaler = StandardScaler()\n",
    "X_scaled = scaler.fit_transform(x)\n",
    "x_test = scaler.transform(x_test)"
   ]
  },
  {
   "cell_type": "code",
   "execution_count": 37,
   "metadata": {},
   "outputs": [],
   "source": [
    "Apply_prob_feat = False\n",
    "\n",
    "if Apply_prob_feat:    \n",
    "    cat_train = raw_data.iloc[:, raw_data.columns.get_indexer(['used', 'invoicepostcode', 'domain'])]\n",
    "    cat_test = raw_unlabeled.iloc[:, raw_unlabeled.columns.get_indexer(['used', 'invoicepostcode', 'domain'])]\n",
    "\n",
    "    cat_train, cat_test = cat_feat_to_probs(cat_train, cat_test)\n",
    "\n",
    "    cat_train = StandardScaler().fit_transform(cat_train)\n",
    "    cat_test = StandardScaler().fit_transform(cat_test)\n",
    "\n",
    "\n",
    "    X_scaled = np.concatenate([X_scaled, cat_train], axis = 1)\n",
    "    x_test = np.concatenate([x_test, cat_test], axis = 1)\n"
   ]
  },
  {
   "cell_type": "code",
   "execution_count": 38,
   "metadata": {},
   "outputs": [],
   "source": [
    "clf = GradientBoostingClassifier()\n",
    "clf.fit(X_scaled, y)\n",
    "y_test_pred = clf.predict_proba(x_test)[:, 1]\n",
    "threshold = 0.24\n"
   ]
  },
  {
   "cell_type": "code",
   "execution_count": 39,
   "metadata": {},
   "outputs": [
    {
     "name": "stdout",
     "output_type": "stream",
     "text": [
      "[0.17621403 0.32725071 0.14256435 ... 0.26204065 0.16840356 0.18905718]\n"
     ]
    }
   ],
   "source": [
    "print(y_test_pred)"
   ]
  },
  {
   "cell_type": "code",
   "execution_count": 40,
   "metadata": {},
   "outputs": [],
   "source": [
    "y_result = np.copy(y_test_pred)       \n",
    "y_result[y_test_pred<=threshold] = 1\n",
    "y_result[y_test_pred>threshold] = 0\n"
   ]
  },
  {
   "cell_type": "code",
   "execution_count": 65,
   "metadata": {},
   "outputs": [],
   "source": [
    "result = raw_unlabeled.iloc[:, raw_unlabeled.columns.get_indexer(['customernumber'])].copy()\n",
    "result['pred'] = y_result\n"
   ]
  },
  {
   "cell_type": "code",
   "execution_count": 66,
   "metadata": {},
   "outputs": [],
   "source": [
    "result.to_csv('test_labels.csv', index = False)"
   ]
  },
  {
   "cell_type": "code",
   "execution_count": 67,
   "metadata": {},
   "outputs": [
    {
     "name": "stdout",
     "output_type": "stream",
     "text": [
      "       customernumber  pred\n",
      "0               46743   1.0\n",
      "1               24108   0.0\n",
      "2               31500   1.0\n",
      "3               16864   1.0\n",
      "4               63484   1.0\n",
      "5               56763   1.0\n",
      "6               17750   0.0\n",
      "7               58248   1.0\n",
      "8               33948   0.0\n",
      "9                5445   1.0\n",
      "10              33373   1.0\n",
      "11              11111   1.0\n",
      "12              48783   1.0\n",
      "13              33060   1.0\n",
      "14              12832   1.0\n",
      "15              10785   1.0\n",
      "16              63629   1.0\n",
      "17              42345   1.0\n",
      "18              57790   0.0\n",
      "19               1410   1.0\n",
      "20              10414   1.0\n",
      "21              12848   1.0\n",
      "22              40935   1.0\n",
      "23              11516   1.0\n",
      "24              34233   1.0\n",
      "25              23095   0.0\n",
      "26              46526   1.0\n",
      "27              43325   1.0\n",
      "28              23368   0.0\n",
      "29              32223   1.0\n",
      "...               ...   ...\n",
      "10779           57950   1.0\n",
      "10780           43188   0.0\n",
      "10781           28804   0.0\n",
      "10782           59106   1.0\n",
      "10783           55986   1.0\n",
      "10784           29231   1.0\n",
      "10785           54365   1.0\n",
      "10786           45899   1.0\n",
      "10787           51182   1.0\n",
      "10788            8842   0.0\n",
      "10789           29997   1.0\n",
      "10790            5901   1.0\n",
      "10791           13514   1.0\n",
      "10792           53192   1.0\n",
      "10793           23998   0.0\n",
      "10794           12253   1.0\n",
      "10795           17391   1.0\n",
      "10796            2811   1.0\n",
      "10797           24063   1.0\n",
      "10798           64803   1.0\n",
      "10799           52754   1.0\n",
      "10800           57515   1.0\n",
      "10801           41626   1.0\n",
      "10802           32197   1.0\n",
      "10803           39341   1.0\n",
      "10804             377   1.0\n",
      "10805           51151   1.0\n",
      "10806           54406   0.0\n",
      "10807           61303   1.0\n",
      "10808           36031   1.0\n",
      "\n",
      "[10809 rows x 2 columns]\n"
     ]
    }
   ],
   "source": [
    "print(pd.read_csv('test_labels.csv'))"
   ]
  },
  {
   "cell_type": "code",
   "execution_count": null,
   "metadata": {},
   "outputs": [],
   "source": []
  }
 ],
 "metadata": {
  "kernelspec": {
   "display_name": "Python 3",
   "language": "python",
   "name": "python3"
  },
  "language_info": {
   "codemirror_mode": {
    "name": "ipython",
    "version": 3
   },
   "file_extension": ".py",
   "mimetype": "text/x-python",
   "name": "python",
   "nbconvert_exporter": "python",
   "pygments_lexer": "ipython3",
   "version": "3.6.3"
  },
  "latex_envs": {
   "LaTeX_envs_menu_present": true,
   "autocomplete": true,
   "bibliofile": "biblio.bib",
   "cite_by": "apalike",
   "current_citInitial": 1,
   "eqLabelWithNumbers": true,
   "eqNumInitial": 1,
   "hotkeys": {
    "equation": "Ctrl-E",
    "itemize": "Ctrl-I"
   },
   "labels_anchors": false,
   "latex_user_defs": false,
   "report_style_numbering": false,
   "user_envs_cfg": false
  }
 },
 "nbformat": 4,
 "nbformat_minor": 2
}
